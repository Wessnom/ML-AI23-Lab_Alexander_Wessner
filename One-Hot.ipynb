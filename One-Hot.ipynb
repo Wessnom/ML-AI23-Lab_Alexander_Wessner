{
 "cells": [
  {
   "cell_type": "code",
   "execution_count": 2,
   "metadata": {},
   "outputs": [],
   "source": [
    "import pandas as pd"
   ]
  },
  {
   "cell_type": "code",
   "execution_count": 7,
   "metadata": {},
   "outputs": [],
   "source": [
    "df_path = \"assets/cleaned_cardio.csv\"\n",
    "df = pd.read_csv(df_path)\n",
    "\n",
    "df_onehot_bmi_bp_gender = df.copy()\n",
    "df_onehot_gender = df.copy()\n",
    "\n",
    "# First dataframe\n",
    "df_onehot_bmi_bp_gender.drop([\"ap_hi\", \"ap_lo\", \"weight\", \"height\", \"bmi\"], axis=1, inplace=True)\n",
    "df_onehot_bmi_bp_gender = pd.get_dummies(df_onehot_bmi_bp_gender, columns=[\"bmi_category\", \"bp_category\", \"gender\"])\n",
    "\n",
    "# Second dataframe\n",
    "df_onehot_gender.drop([\"height\", \"weight\", \"bmi_category\", \"bp_category\"], axis=1, inplace=True) \n",
    "df_onehot_gender = pd.get_dummies(df_onehot_gender, columns=[\"gender\"])\n",
    "\n",
    "# showing first few rows of each dataframe to verify the results\n",
    "# df_onehot_bmi_bp_gender.head(), df_onehot_gender.head()\n",
    "\n",
    "# save the dataframes to csv files\n",
    "df_onehot_bmi_bp_gender.to_csv(\"assets/cleaned_categorical_cardio.csv\", index=False)\n",
    "df_onehot_gender.to_csv(\"assets/cleaned_cardio_onehot_gender.csv\", index=False)"
   ]
  }
 ],
 "metadata": {
  "kernelspec": {
   "display_name": "ML-AI23-Lab_Alexander_Wessner-3Jo943ze",
   "language": "python",
   "name": "python3"
  },
  "language_info": {
   "codemirror_mode": {
    "name": "ipython",
    "version": 3
   },
   "file_extension": ".py",
   "mimetype": "text/x-python",
   "name": "python",
   "nbconvert_exporter": "python",
   "pygments_lexer": "ipython3",
   "version": "3.11.5"
  }
 },
 "nbformat": 4,
 "nbformat_minor": 2
}
